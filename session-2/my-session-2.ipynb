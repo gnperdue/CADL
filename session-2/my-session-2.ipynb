{
 "cells": [
  {
   "cell_type": "markdown",
   "metadata": {},
   "source": [
    "# Session 3 - Training a Network w/ TF"
   ]
  },
  {
   "cell_type": "code",
   "execution_count": 1,
   "metadata": {
    "collapsed": true
   },
   "outputs": [],
   "source": [
    "# imports\n",
    "\n",
    "# check py ver\n",
    "import sys\n",
    "if sys.version_info < (3,4):\n",
    "    print('This version of Python is too old. Please update to at least 3.4.')\n",
    "\n",
    "# libs\n",
    "try:\n",
    "    import os\n",
    "    import numpy as np\n",
    "    import matplotlib.pyplot as plt\n",
    "    from skimage.transform import resize\n",
    "    from skimage import data\n",
    "    from scipy.misc import imresize\n",
    "except ImportError:\n",
    "    print('You are missing some libraies!')\n",
    "    # wild - we can `pip install` here!\n",
    "    #!pip install \"numpy>1.11.0\" \"matplotlib>1.5.1\" \"scikit-image>0.11.3\" \"scikit-learn>=0.17\" \"scipy>=0.17.0\"\n",
    "    \n",
    "# tf\n",
    "try:\n",
    "    import tensorflow as tf\n",
    "except ImportError:\n",
    "    print('You need TensorFlow for this course about artistic applications of TensorFlow.')\n",
    "    \n",
    "try:\n",
    "    from libs import utils, gif\n",
    "    import IPython.display as ipyd\n",
    "except ImportError:\n",
    "    print('Make sure you have the libs stuff in the same directory as this notebook.')"
   ]
  },
  {
   "cell_type": "code",
   "execution_count": 2,
   "metadata": {
    "collapsed": false
   },
   "outputs": [
    {
     "data": {
      "text/html": [
       "<style> .rendered_html code {\n",
       "    padding: 2px 4px;\n",
       "    color: #c7254e;\n",
       "    background-color: #f9f2f4;\n",
       "    border-radius: 4px;\n",
       "}</style>"
      ],
      "text/plain": [
       "<IPython.core.display.HTML object>"
      ]
     },
     "execution_count": 2,
     "metadata": {},
     "output_type": "execute_result"
    }
   ],
   "source": [
    "# pk doesn't like the default inline code style, so let's jazz up the CSS:\n",
    "from IPython.core.display import HTML\n",
    "HTML(\"\"\"<style> .rendered_html code {\n",
    "    padding: 2px 4px;\n",
    "    color: #c7254e;\n",
    "    background-color: #f9f2f4;\n",
    "    border-radius: 4px;\n",
    "}</style>\"\"\")"
   ]
  },
  {
   "cell_type": "code",
   "execution_count": 3,
   "metadata": {
    "collapsed": true
   },
   "outputs": [],
   "source": [
    "%matplotlib inline\n",
    "plt.style.use('ggplot')"
   ]
  },
  {
   "cell_type": "markdown",
   "metadata": {},
   "source": [
    "## Part One - Fully Connected Network"
   ]
  },
  {
   "cell_type": "code",
   "execution_count": 4,
   "metadata": {
    "collapsed": false
   },
   "outputs": [
    {
     "data": {
      "text/plain": [
       "<matplotlib.legend.Legend at 0x11965e1d0>"
      ]
     },
     "execution_count": 4,
     "metadata": {},
     "output_type": "execute_result"
    },
    {
     "data": {
      "image/png": "[encoded data removed]",
      "text/plain": [
       "<matplotlib.figure.Figure at 0x119580550>"
      ]
     },
     "metadata": {},
     "output_type": "display_data"
    }
   ],
   "source": [
    "xs = np.linspace(-6, 6, 100)\n",
    "plt.plot(xs, np.maximum(xs, 0), label='relu')\n",
    "plt.plot(xs, 1 / (1 + np.exp(-xs)), label='sigmoid')\n",
    "plt.plot(xs, np.tanh(xs), label='tanh')\n",
    "plt.xlabel('Input')\n",
    "plt.xlim([-6, 6])\n",
    "plt.ylabel('Output')\n",
    "plt.ylim([-1.5, 1.5])\n",
    "plt.title('Common Activation Functions/Nonlinearities')\n",
    "plt.legend(loc='lower right')"
   ]
  },
  {
   "cell_type": "markdown",
   "metadata": {},
   "source": [
    "### Code"
   ]
  },
  {
   "cell_type": "code",
   "execution_count": 5,
   "metadata": {
    "collapsed": true
   },
   "outputs": [],
   "source": [
    "X = tf.placeholder(tf.float32, shape=[None, 2], name='X')"
   ]
  },
  {
   "cell_type": "code",
   "execution_count": 6,
   "metadata": {
    "collapsed": true
   },
   "outputs": [],
   "source": [
    "W = tf.get_variable('W', shape=[2, 20], dtype=tf.float32,\n",
    "                    initializer=tf.random_normal_initializer(mean=0, stddev=0.01, dtype=tf.float32))\n",
    "b = tf.get_variable('b', shape=[20], dtype=tf.float32,\n",
    "                    initializer=tf.constant_initializer(value=0.0, dtype=tf.float32))"
   ]
  },
  {
   "cell_type": "code",
   "execution_count": 7,
   "metadata": {
    "collapsed": true
   },
   "outputs": [],
   "source": [
    "# wx_plus_b = tf.matmul(X, W) + b\n",
    "# no, we do this `bias_add` for some reason... it supports broadcasting, and restricts the bias to 1D...\n",
    "# but sort of unclear why `bias_add` really exists...\n",
    "h = tf.matmul(X, W)\n",
    "h = tf.nn.bias_add(h, b)"
   ]
  },
  {
   "cell_type": "code",
   "execution_count": 8,
   "metadata": {
    "collapsed": false
   },
   "outputs": [
    {
     "name": "stdout",
     "output_type": "stream",
     "text": [
      "Help on function relu in module tensorflow.python.ops.gen_nn_ops:\n",
      "\n",
      "relu(features, name=None)\n",
      "    Computes rectified linear: `max(features, 0)`.\n",
      "    \n",
      "    Args:\n",
      "      features: A `Tensor`. Must be one of the following types: `float32`, `float64`, `int32`, `int64`, `uint8`, `int16`, `int8`, `uint16`, `half`.\n",
      "      name: A name for the operation (optional).\n",
      "    \n",
      "    Returns:\n",
      "      A `Tensor`. Has the same type as `features`.\n",
      "\n"
     ]
    }
   ],
   "source": [
    "#help(tf.get_variable)\n",
    "#help(tf.random_normal_initializer)\n",
    "#help(tf.constant_initializer)\n",
    "#help(tf.nn.bias_add)\n",
    "help(tf.nn.relu)"
   ]
  },
  {
   "cell_type": "code",
   "execution_count": 9,
   "metadata": {
    "collapsed": true
   },
   "outputs": [],
   "source": [
    "h = tf.nn.relu(h)"
   ]
  },
  {
   "cell_type": "markdown",
   "metadata": {
    "collapsed": true
   },
   "source": [
    "Next we get `linear` from the `utils` we imported... Let's copy it instead of using it directly so we can type it out and \"enjoy\" the contents:"
   ]
  },
  {
   "cell_type": "code",
   "execution_count": 10,
   "metadata": {
    "collapsed": true
   },
   "outputs": [],
   "source": [
    "# also need to get `flatten` from utils\n",
    "def flatten(x, name=None, reuse=None):\n",
    "    with tf.variable_scope('flatten'):\n",
    "        dims = x.get_shape().as_list()\n",
    "        if len(dims) == 4:\n",
    "            flattened = tf.reshape(x, shape=[-1, dims[1] * dims[2] * dims[3]])\n",
    "        elif len(dims) == 2 or len(dims) == 1:\n",
    "            flattened = x\n",
    "        else:\n",
    "            raise ValueError('Expected n dimensions of 1, 2, or 4. Found:', len(dims))\n",
    "    return flattened\n",
    "\n",
    "# scope is called 'name', number of inputs is derived from the shape of `x`\n",
    "def linear(x, n_output, name=None, activation=None, reuse=None):\n",
    "    if len(x.get_shape()) != 2:\n",
    "        x = flatten(x, reuse=reuse)\n",
    "    n_input = x.get_shape().as_list()[1]\n",
    "    with tf.variable_scope(name or \"fc\", reuse=reuse):\n",
    "        W = tf.get_variable(name='W',\n",
    "                           shape=[n_input, n_output],\n",
    "                           dtype=tf.float32,\n",
    "                           initializer=tf.contrib.layers.xavier_initializer())\n",
    "        b = tf.get_variable(name='b',\n",
    "                           shape=[n_output],\n",
    "                           dtype=tf.float32,\n",
    "                           initializer=tf.constant_initializer(0.0))\n",
    "        h = tf.nn.bias_add(name='h',\n",
    "                          value=tf.matmul(x, W),\n",
    "                          bias=b)\n",
    "        if activation:\n",
    "            h = activation(h)\n",
    "        return h, W"
   ]
  },
  {
   "cell_type": "markdown",
   "metadata": {},
   "source": [
    "### Variable scopes"
   ]
  },
  {
   "cell_type": "markdown",
   "metadata": {},
   "source": [
    "Note that since we are using `variable_scope` and telling the scope the name we would like, if there is _already_ a variable with the same name, TF will raise an exception. Consider three possible solutions:\n",
    "\n",
    "1. reset the current graph: `tf.reset_default_graph()`\n",
    "2. look for typos\n",
    "3. use context managers when creating graphs and running sessions, e.g.\n",
    "\n",
    "```\n",
    "g = tf.Graph()\n",
    "with tf.Session(graph=g) as sess:\n",
    "    Y_pred, W = linear(X, 2, 'linear', activation=tf.nn.relu)\n",
    "```\n",
    "\n",
    "or\n",
    "\n",
    "```\n",
    "g = tf.Graph()   # ? why do this and add `g.as_default()` below?\n",
    "with tf.Session(graph=g) as sess, g.as_default():\n",
    "    Y_pred, W = linear(X, 2, 'linear', activation=tf.nn.relu)\n",
    "\n",
    "```"
   ]
  },
  {
   "cell_type": "code",
   "execution_count": 11,
   "metadata": {
    "collapsed": true
   },
   "outputs": [],
   "source": [
    "h, W = linear(x=X, n_output=20, name='linear', activation=tf.nn.relu)"
   ]
  },
  {
   "cell_type": "markdown",
   "metadata": {},
   "source": [
    "## Part Two - Imagine painting network"
   ]
  },
  {
   "cell_type": "code",
   "execution_count": 12,
   "metadata": {
    "collapsed": true
   },
   "outputs": [],
   "source": [
    "use_images_and_put_up_with_border_nonsense = False"
   ]
  },
  {
   "cell_type": "code",
   "execution_count": 13,
   "metadata": {
    "collapsed": true
   },
   "outputs": [],
   "source": [
    "if use_images_and_put_up_with_border_nonsense:\n",
    "    dirname = \"/Users/perdue/Dropbox/ArtificialIntelligence/CADL/CADL/session-1/imgs\"\n",
    "    filenames = [os.path.join(dirname, fname) for fname in os.listdir(dirname)]\n",
    "    imgs = [plt.imread(fname) for fname in filenames]\n",
    "    imgs = np.array(imgs).astype(np.float32)\n",
    "\n",
    "    # trim off white edges\n",
    "    imgs = [img_i[11:88, 13:90] for img_i in imgs]\n",
    "    imgs = [resize(img_i, (100, 100)) for img_i in imgs]\n",
    "    imgs = np.array(imgs).astype(np.float32)\n",
    "    fig = plt.figure(figsize=(12, 12))\n",
    "    ax = plt.gca()\n",
    "    ax.axis('off')\n",
    "    im = ax.imshow(imgs[49], interpolation='nearest')"
   ]
  },
  {
   "cell_type": "code",
   "execution_count": 14,
   "metadata": {
    "collapsed": true
   },
   "outputs": [],
   "source": [
    "if use_images_and_put_up_with_border_nonsense:\n",
    "    for i in range(len(imgs)):\n",
    "        fig = plt.figure(figsize=(1, 1))\n",
    "        ax = plt.gca()\n",
    "        ax.axis('off')\n",
    "        im = ax.imshow(imgs[i], cmap=plt.get_cmap('jet'),\n",
    "                       interpolation='nearest', vmin=0, vmax=1)\n",
    "        figname = 'imgs/kadenze_%04d.png' % i\n",
    "        plt.savefig(figname)\n",
    "        plt.close()\n",
    "        \n",
    "    dirname = \"/Users/perdue/Dropbox/ArtificialIntelligence/CADL/CADL/session-2/imgs\"\n",
    "    filenames = [os.path.join(dirname, fname) for fname in os.listdir(dirname)]\n",
    "    imgs = [plt.imread(fname) for fname in filenames]\n",
    "    imgs = np.array(imgs).astype(np.float32)\n",
    "    \n",
    "    fig = plt.figure(figsize=(12, 12))\n",
    "    ax = plt.gca()\n",
    "    ax.axis('off')\n",
    "    im = ax.imshow(imgs[49], interpolation='nearest')"
   ]
  },
  {
   "cell_type": "markdown",
   "metadata": {},
   "source": [
    "We again pick up the dumb white borders!"
   ]
  },
  {
   "cell_type": "markdown",
   "metadata": {},
   "source": [
    "Should just read the image data properly from the HDF5 file... use `npymaker.py`"
   ]
  },
  {
   "cell_type": "code",
   "execution_count": 15,
   "metadata": {
    "collapsed": false
   },
   "outputs": [
    {
     "name": "stdout",
     "output_type": "stream",
     "text": [
      "(100, 100, 100)\n"
     ]
    }
   ],
   "source": [
    "imgs = np.load('img_data.npy')\n",
    "print(imgs.shape)"
   ]
  },
  {
   "cell_type": "code",
   "execution_count": 16,
   "metadata": {
    "collapsed": false
   },
   "outputs": [
    {
     "data": {
      "image/png": "[encoded data removed]",
      "text/plain": [
       "<matplotlib.figure.Figure at 0x1197cb438>"
      ]
     },
     "metadata": {},
     "output_type": "display_data"
    }
   ],
   "source": [
    "fig = plt.figure(figsize=(12, 12))\n",
    "ax = plt.gca()\n",
    "ax.axis('off')\n",
    "im = ax.imshow(imgs[49], interpolation='nearest')"
   ]
  },
  {
   "cell_type": "markdown",
   "metadata": {
    "collapsed": true
   },
   "source": [
    "We need to aggregate pixel locations and colors in a loop over every pixel position. PK provided a function:"
   ]
  },
  {
   "cell_type": "code",
   "execution_count": 17,
   "metadata": {
    "collapsed": true
   },
   "outputs": [],
   "source": [
    "def split_image(img):\n",
    "    \"\"\"\n",
    "    img needs 2d shape\n",
    "    \"\"\"\n",
    "    xs = []  # positions\n",
    "    ys = []  # colors\n",
    "    for row_i in range(img.shape[0]):\n",
    "        for col_i in range(img.shape[1]):\n",
    "            xs.append([row_i, col_i])\n",
    "            ys.append(img[row_i, col_i])\n",
    "            \n",
    "    xs = np.array(xs)\n",
    "    ys = np.array(ys)\n",
    "    return xs, ys"
   ]
  },
  {
   "cell_type": "code",
   "execution_count": 18,
   "metadata": {
    "collapsed": true
   },
   "outputs": [],
   "source": [
    "xs, ys = split_image(imgs[49])"
   ]
  },
  {
   "cell_type": "code",
   "execution_count": 19,
   "metadata": {
    "collapsed": false
   },
   "outputs": [
    {
     "name": "stdout",
     "output_type": "stream",
     "text": [
      "[[0 0]\n",
      " [0 1]\n",
      " [0 2]\n",
      " [0 3]\n",
      " [0 4]\n",
      " [0 5]\n",
      " [0 6]\n",
      " [0 7]\n",
      " [0 8]\n",
      " [0 9]]\n",
      "[ 0.         0.         0.         0.         0.         0.         0.0109631\n",
      "  0.         0.         0.       ]\n"
     ]
    }
   ],
   "source": [
    "print(xs[:10])\n",
    "print(ys[:10])"
   ]
  },
  {
   "cell_type": "markdown",
   "metadata": {},
   "source": [
    "PK wants us to normalize the input... but this makes no sense to me. The inputs are coordinates! So, we'll skip that."
   ]
  },
  {
   "cell_type": "markdown",
   "metadata": {},
   "source": [
    "We will do a `ys` normalization though:"
   ]
  },
  {
   "cell_type": "code",
   "execution_count": 20,
   "metadata": {
    "collapsed": false
   },
   "outputs": [
    {
     "name": "stdout",
     "output_type": "stream",
     "text": [
      "0.0 1.0\n"
     ]
    }
   ],
   "source": [
    "print(np.min(ys), np.max(ys))"
   ]
  },
  {
   "cell_type": "markdown",
   "metadata": {},
   "source": [
    "Hmmm, well, actually, we're already normalized. PK assumed we had 8-bit images and wanted a `/255` scaling, but I don't think that is required here."
   ]
  },
  {
   "cell_type": "code",
   "execution_count": 21,
   "metadata": {
    "collapsed": false
   },
   "outputs": [
    {
     "data": {
      "text/plain": [
       "<matplotlib.image.AxesImage at 0x11ac8f4a8>"
      ]
     },
     "execution_count": 21,
     "metadata": {},
     "output_type": "execute_result"
    },
    {
     "data": {
      "image/png": "[encoded data removed]",
      "text/plain": [
       "<matplotlib.figure.Figure at 0x11985cda0>"
      ]
     },
     "metadata": {},
     "output_type": "display_data"
    }
   ],
   "source": [
    "# we can get our image back:\n",
    "plt.imshow(ys.reshape(imgs[49].shape))"
   ]
  },
  {
   "cell_type": "markdown",
   "metadata": {},
   "source": [
    "Now, let's reset the graph and create placeholders for `X` and `Y`:"
   ]
  },
  {
   "cell_type": "code",
   "execution_count": 30,
   "metadata": {
    "collapsed": true
   },
   "outputs": [],
   "source": [
    "tf.reset_default_graph()"
   ]
  },
  {
   "cell_type": "code",
   "execution_count": 31,
   "metadata": {
    "collapsed": false
   },
   "outputs": [
    {
     "data": {
      "text/plain": [
       "[]"
      ]
     },
     "execution_count": 31,
     "metadata": {},
     "output_type": "execute_result"
    }
   ],
   "source": [
    "[print(op.name) for op in tf.get_default_graph().get_operations()]"
   ]
  },
  {
   "cell_type": "code",
   "execution_count": 32,
   "metadata": {
    "collapsed": true
   },
   "outputs": [],
   "source": [
    "X = tf.placeholder(tf.float32, shape=[None, 2], name='X')\n",
    "Y = tf.placeholder(tf.float32, shape=[None, 3], name='Y')"
   ]
  },
  {
   "cell_type": "code",
   "execution_count": 33,
   "metadata": {
    "collapsed": false
   },
   "outputs": [
    {
     "data": {
      "text/plain": [
       "['X', 'Y']"
      ]
     },
     "execution_count": 33,
     "metadata": {},
     "output_type": "execute_result"
    }
   ],
   "source": [
    "[op.name for op in tf.get_default_graph().get_operations()]"
   ]
  },
  {
   "cell_type": "markdown",
   "metadata": {},
   "source": [
    "Now, let's create a 6-layer deep network with 20 neurons in each layer.\n",
    "\n",
    "```\n",
    "h1 = phi(X W1 + b1)\n",
    "h2 = phi(h1 W2 + b2)\n",
    "...\n",
    "h6 = phi(h5 W6 + b6)\n",
    "Yhat = phi(H6 W7 + b7)\n",
    "```\n"
   ]
  },
  {
   "cell_type": "code",
   "execution_count": 34,
   "metadata": {
    "collapsed": false
   },
   "outputs": [],
   "source": [
    "# recall:\n",
    "#  def linear(x, n_output, name=None, activation=None, reuse=None)\n",
    "# `linear` returns activated layer, W\n",
    "\n",
    "n_neurons = [2, 20, 20, 20, 20, 20, 20, 3]  # len==8\n",
    "current_input = X\n",
    "for layer_i in range(1, len(n_neurons)):\n",
    "    # loop starting after the data input layer, use `linear` function to build params, etc.\n",
    "    layer_name = 'layer_' + str(layer_i)\n",
    "    act_fun = tf.nn.relu if (layer_i + 1) < len(n_neurons) else None\n",
    "    current_input, _ = linear(x=current_input, n_output=n_neurons[layer_i], name=layer_name, activation=act_fun)\n",
    "Yhat = current_input"
   ]
  },
  {
   "cell_type": "code",
   "execution_count": 36,
   "metadata": {
    "collapsed": false
   },
   "outputs": [],
   "source": [
    "assert(X.get_shape().as_list() == [None, 2])\n",
    "assert(Yhat.get_shape().as_list() == [None, 3])\n",
    "assert(Y.get_shape().as_list() == [None, 3])"
   ]
  },
  {
   "cell_type": "code",
   "execution_count": null,
   "metadata": {
    "collapsed": true
   },
   "outputs": [],
   "source": []
  }
 ],
 "metadata": {
  "kernelspec": {
   "display_name": "Python 3",
   "language": "python",
   "name": "python3"
  },
  "language_info": {
   "codemirror_mode": {
    "name": "ipython",
    "version": 3
   },
   "file_extension": ".py",
   "mimetype": "text/x-python",
   "name": "python",
   "nbconvert_exporter": "python",
   "pygments_lexer": "ipython3",
   "version": "3.5.2"
  }
 },
 "nbformat": 4,
 "nbformat_minor": 0
}
